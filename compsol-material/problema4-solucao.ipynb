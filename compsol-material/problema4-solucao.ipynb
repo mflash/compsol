{
 "cells": [
  {
   "cell_type": "markdown",
   "metadata": {
    "deletable": true,
    "editable": true
   },
   "source": [
    "![prob3](header.jpg)"
   ]
  },
  {
   "cell_type": "markdown",
   "metadata": {
    "deletable": true,
    "editable": true
   },
   "source": [
    "### Problema 4\n",
    "\n",
    "Para terminar sua dissertação sobre linguística, seu primo precisa\n",
    "analisar as obras completas de Shakespeare e determinar quais são\n",
    "as 20 palavras que aparecem mais vezes. Proponha um processo que possa\n",
    "começar com os textos completos e chegar à resposta final. Lembre\n",
    "que são quase 900 mil palavras..."
   ]
  },
  {
   "cell_type": "code",
   "execution_count": 1,
   "metadata": {
    "collapsed": false,
    "deletable": true,
    "editable": true
   },
   "outputs": [
    {
     "name": "stdout",
     "output_type": "stream",
     "text": [
      "Populating the interactive namespace from numpy and matplotlib\n",
      "Palavras distintas: 27942\n",
      "the -> 27361\n",
      "and -> 26028\n",
      "i -> 20681\n",
      "to -> 19150\n",
      "of -> 17463\n",
      "a -> 14593\n",
      "you -> 13615\n",
      "my -> 12481\n",
      "in -> 10956\n",
      "that -> 10890\n",
      "is -> 9134\n",
      "not -> 8497\n",
      "with -> 7771\n",
      "me -> 7769\n",
      "it -> 7678\n",
      "for -> 7558\n",
      "his -> 6857\n",
      "be -> 6857\n",
      "your -> 6655\n",
      "this -> 6602\n"
     ]
    },
    {
     "data": {
      "image/png": "[encoded data removed]",
      "text/plain": [
       "<matplotlib.figure.Figure at 0x10bce3160>"
      ]
     },
     "metadata": {},
     "output_type": "display_data"
    }
   ],
   "source": [
    "%pylab inline\n",
    "pylab.rcParams['figure.figsize'] = (12, 8)\n",
    "\n",
    "arq = open(\"dados/shakespeare2.txt\")\n",
    "dic = {}\n",
    "\n",
    "for line in arq.readlines():\n",
    "    line = line.strip()\n",
    "    if line:\n",
    "        for word in line.split(' '):\n",
    "            if len(word) == 0:\n",
    "                continue\n",
    "            if word in dic:\n",
    "                dic[word] = dic[word] + 1\n",
    "            else:\n",
    "                dic[word] = 1\n",
    "\n",
    "arq.close()\n",
    "\n",
    "s = [(k, dic[k]) for k in sorted(dic, key=dic.get, reverse=True)]\n",
    "\n",
    "print(\"Palavras distintas:\",len(s))\n",
    "for k,v in s[:20]:\n",
    "    print(k,'->',v)\n",
    "    \n",
    "plt.xlabel(\"Palavras\")\n",
    "plt.ylabel(\"Frequência\")\n",
    "dados1,dados2 = zip(*s[:20])\n",
    "nums = np.linspace(1,20,20) # 1, 2, 3..., 20\n",
    "plt.bar(nums,dados2)\n",
    "plt.xticks(nums,dados1)\n",
    "plt.show()"
   ]
  },
  {
   "cell_type": "code",
   "execution_count": null,
   "metadata": {
    "collapsed": true,
    "deletable": true,
    "editable": true
   },
   "outputs": [],
   "source": []
  }
 ],
 "metadata": {
  "anaconda-cloud": {},
  "kernelspec": {
   "display_name": "Python 3",
   "language": "python",
   "name": "python3"
  },
  "language_info": {
   "codemirror_mode": {
    "name": "ipython",
    "version": 3
   },
   "file_extension": ".py",
   "mimetype": "text/x-python",
   "name": "python",
   "nbconvert_exporter": "python",
   "pygments_lexer": "ipython3",
   "version": "3.6.0"
  }
 },
 "nbformat": 4,
 "nbformat_minor": 1
}
