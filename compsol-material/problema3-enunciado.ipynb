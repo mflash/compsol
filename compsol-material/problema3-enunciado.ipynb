{
 "cells": [
  {
   "cell_type": "markdown",
   "metadata": {
    "deletable": true,
    "editable": true
   },
   "source": [
    "![prob3](header.jpg)"
   ]
  },
  {
   "cell_type": "markdown",
   "metadata": {
    "deletable": true,
    "editable": true
   },
   "source": [
    "### Problema 3\n",
    "\n",
    "Infelizmente um vírus acaba de sofrer uma mutação e passou das gaivotas\n",
    "para os humanos, contaminando as pessoas. No início você tem uma pessoa\n",
    "contaminada (o *paciente zero*), que poderá contaminar outras\n",
    "pessoas ao encontrá-las. Determine as informações que você precisa\n",
    "para construir um modelo de propagação da doença e qual seria este\n",
    "modelo. Investigue os limites da validade do seu modelo."
   ]
  },
  {
   "cell_type": "markdown",
   "metadata": {
    "deletable": true,
    "editable": true
   },
   "source": [
    "Informação: taxa de contágio $\\alpha$ entre contaminados e não-contaminados.\n",
    "(Sug. $\\alpha=0.002$)\n",
    "\n",
    "Informação: taxa de mortalidade $\\beta$ de contaminados. (Sug. $\\beta=0.06$)\n",
    "\\begin{eqnarray*}\n",
    "Pop & = & 1000000 \\\\\n",
    "C_1 & = & 1 \\\\\n",
    "S_1 & = & Pop - C_1 \\\\\n",
    "M_\\infty & = & 0 \\\\\n",
    "I_\\infty & = & 0\n",
    "\\end{eqnarray*}\n",
    "\n",
    "Primeiro calculamos quantas novas pessoas terão adoecido no momento $n$:\n",
    "\n",
    "$$ A_n = \\frac{\\alpha S_nC_n}{Pop} $$\n",
    "\n",
    "E atualizamos os números de pessoas sadias e contaminadas\n",
    "\n",
    "\\begin{eqnarray*}\n",
    "S_{n+1}     & = & S_n - A_n \\\\\n",
    "C_{n+1}     & = & C_n + A_n\n",
    "\\end{eqnarray*}\n",
    "\n",
    "Algumas destes novos doentes vão morrer, outros vão ficar imunizados:\n",
    "\n",
    "\\begin{eqnarray*}\n",
    "M_\\infty & = & M_\\infty + \\beta*A_n \\\\\n",
    "I_\\infty & = & I_\\infty + (1-\\beta)*A_n\n",
    "\\end{eqnarray*}"
   ]
  },
  {
   "cell_type": "code",
   "execution_count": null,
   "metadata": {
    "collapsed": true,
    "deletable": true,
    "editable": true
   },
   "outputs": [],
   "source": []
  }
 ],
 "metadata": {
  "anaconda-cloud": {},
  "kernelspec": {
   "display_name": "Python 3",
   "language": "python",
   "name": "python3"
  },
  "language_info": {
   "codemirror_mode": {
    "name": "ipython",
    "version": 3
   },
   "file_extension": ".py",
   "mimetype": "text/x-python",
   "name": "python",
   "nbconvert_exporter": "python",
   "pygments_lexer": "ipython3",
   "version": "3.6.0"
  }
 },
 "nbformat": 4,
 "nbformat_minor": 1
}
