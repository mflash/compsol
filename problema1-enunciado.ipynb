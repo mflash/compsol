{
 "cells": [
  {
   "cell_type": "markdown",
   "metadata": {
    "deletable": true,
    "editable": true
   },
   "source": [
    "![prob1](header.jpg)"
   ]
  },
  {
   "cell_type": "markdown",
   "metadata": {
    "deletable": true,
    "editable": true
   },
   "source": [
    "### Problema 1\n",
    "\n",
    "Você decidiu abrir uma caderneta de poupança para o seu sobrinho que acaba de nascer, assim quando ele tiver 18 anos encontrará um bom valor para usar como quiser. Você vai fazer depósitos mensais até lá, e deseja descobrir a resposta estas perguntas:"
   ]
  },
  {
   "cell_type": "markdown",
   "metadata": {
    "deletable": true,
    "editable": true
   },
   "source": [
    "  * Quanto dinheiro estará depositado depois de 48 meses?\n",
    "  * E depois de 216 meses (ou seja, 18 anos)?\n",
    "  * Quando ele terá um milhão de reais?\n",
    "  * O que é mais importante, o valor de abertura da conta ou o depósito"
   ]
  },
  {
   "cell_type": "markdown",
   "metadata": {
    "deletable": true,
    "editable": true
   },
   "source": [
    "  Encontre as varíaveis importantes e modele a situação."
   ]
  },
  {
   "cell_type": "markdown",
   "metadata": {
    "deletable": true,
    "editable": true
   },
   "source": [
    "  Depositando o valor $a$ no primeiro mês e o valor $b$ nos meses\n",
    "  seguintes.\n",
    "\n",
    "  Supondo que a taxa de juros é $j$ (o valor atual de $j$ é de aproximadamente\n",
    "  0.7\\%).\n",
    "\n",
    "\\begin{eqnarray*}\n",
    "\\$_1     & = & a \\\\\n",
    "\\$_{n+1} & = & (1+j)*\\$_n+b\n",
    "\\end{eqnarray*}"
   ]
  },
  {
   "cell_type": "code",
   "execution_count": null,
   "metadata": {
    "collapsed": true,
    "deletable": true,
    "editable": true
   },
   "outputs": [],
   "source": []
  }
 ],
 "metadata": {
  "anaconda-cloud": {},
  "kernelspec": {
   "display_name": "Python 3",
   "language": "python",
   "name": "python3"
  },
  "language_info": {
   "codemirror_mode": {
    "name": "ipython",
    "version": 3
   },
   "file_extension": ".py",
   "mimetype": "text/x-python",
   "name": "python",
   "nbconvert_exporter": "python",
   "pygments_lexer": "ipython3",
   "version": "3.6.0"
  }
 },
 "nbformat": 4,
 "nbformat_minor": 1
}
