{
 "cells": [
  {
   "cell_type": "markdown",
   "metadata": {
    "deletable": true,
    "editable": true
   },
   "source": [
    "![prob2](header.jpg)"
   ]
  },
  {
   "cell_type": "markdown",
   "metadata": {
    "deletable": true,
    "editable": true
   },
   "source": [
    "### Problema 2\n",
    "\n",
    "O serviço meteorológico fornece informações sobre a temperatura de cada dia nos últimos 50 anos na sua praia preferida: data, temperatura mínima, temperatura média, temperatura máxima. Você gostaria de obter as seguintes informações importantes para planejar suas férias:\n",
    "\n",
    "  * Qual o mês com a maior média de temperaturas máximas;\n",
    "  * Qual o mês com a maior média de temperaturas mínimas;\n",
    "  * Qual o mês com a maior amplitude térmica;\n",
    "  \n",
    "Os registros estão em um arquivo com o seguinte formato:\n",
    "\n",
    "```ini\n",
    "#data precip maxima minima horas_insol temp_media um_relativa vel_vento\n",
    "01/01/1961 -1 33.8 22.2 11.7 27.08 67.0 2.333333\n",
    "02/01/1961 0.0 34.7 22.5 9.5 28.06 62.5 1.333333\n",
    "03/01/1961 0.2 27.7 23.1 2.3 24.32 74.25 2.0\n",
    "04/01/1961 2.4 29.4 20.6 8.7 23.56 57.5 2.333333\n",
    "```\n",
    "\n",
    "Cada linha contém as seguintes informações, em ordem: data, precipitação (em mm), temperatura máxima, temperatura mínima, horas de insolação, temperatura média, umidade relativa do ar (%) e velocidade do vento. Caso alguma informação não tenha sido coletada no dia, é utilizado o valor -1.\n"
   ]
  },
  {
   "cell_type": "code",
   "execution_count": 2,
   "metadata": {
    "collapsed": false,
    "deletable": true,
    "editable": true
   },
   "outputs": [
    {
     "name": "stdout",
     "output_type": "stream",
     "text": [
      "Populating the interactive namespace from numpy and matplotlib\n",
      "Mínimas: [ 20.52149533  20.69786354  19.39398873  16.34229275  13.29411392\n",
      "  10.8962585   10.52715969  11.41252433  13.11643287  15.36202771\n",
      "  17.09785853  19.12231301]\n",
      "Máximas: [ 30.54485981  30.26045549  28.71571697  25.68498382  22.33020899\n",
      "  19.73399048  19.63718954  21.07948052  22.21413262  24.81944444\n",
      "  27.14935065  29.48541798]\n",
      "Amplitudes: [ 10.02336449   9.56259194   9.32172824   9.34269107   9.03609507\n",
      "   8.83773198   9.11002986   9.66695618   9.09769975   9.45741674\n",
      "  10.05149212  10.36310497]\n",
      "Mês com menor média de temperatura mínima: 7 ( 10.5271596859 )\n",
      "Mês com maior média de temperatura máxima: 1 ( 20.6978635424 )\n",
      "Mês com maior amplitude térmica: 12 ( 10.3631049654 )\n"
     ]
    },
    {
     "data": {
      "image/png": "[encoded data removed]",
      "text/plain": [
       "<matplotlib.figure.Figure at 0x107767cf8>"
      ]
     },
     "metadata": {},
     "output_type": "display_data"
    }
   ],
   "source": [
    "%pylab inline\n",
    "pylab.rcParams['figure.figsize'] = (12, 8)\n",
    "import calendar\n",
    "import numpy as np\n",
    "import matplotlib.pyplot as plt\n",
    "\n",
    "arq = open(\"dados/poa_temps.txt\")\n",
    "arq.readline() # Pula o cabeçalho\n",
    "\n",
    "minimas = np.zeros(12)\n",
    "maximas = np.zeros(12)\n",
    "totminimas = np.zeros(12)\n",
    "totmaximas = np.zeros(12)\n",
    "\n",
    "for linha in arq.readlines():\n",
    "    dados = linha.split()\n",
    "    data = dados[0]\n",
    "    maxima = float(dados[2])\n",
    "    minima = float(dados[3])\n",
    "\n",
    "    diamesano = data.split(\"/\")\n",
    "    mes = int(diamesano[1])-1\n",
    "\n",
    "    # Há máxima?\n",
    "    if maxima != -1:\n",
    "        maximas[mes] += maxima\n",
    "        totmaximas[mes] += 1\n",
    "\n",
    "    # Há mínima?\n",
    "    if minima != -1:\n",
    "        minimas[mes] += minima\n",
    "        totminimas[mes] += 1\n",
    "\n",
    "arq.close()\n",
    "\n",
    "mins = minimas/totminimas\n",
    "print(\"Mínimas:\",mins)\n",
    "\n",
    "maxs = maximas/totmaximas\n",
    "print(\"Máximas:\",maxs)\n",
    "\n",
    "ampli = maxs - mins\n",
    "print(\"Amplitudes:\",ampli)\n",
    "\n",
    "mesMenor = mins.argmin()\n",
    "mesMenorValor = mins.min()\n",
    "mesMaior = maxs.argmax()\n",
    "mesMaiorValor = mins.max()\n",
    "\n",
    "ampliMaior = ampli.argmax()\n",
    "ampliMaiorValor = ampli.max()\n",
    "\n",
    "print(\"Mês com menor média de temperatura mínima:\",mesMenor+1,\"(\",mesMenorValor,\")\")\n",
    "print(\"Mês com maior média de temperatura máxima:\",mesMaior+1,\"(\",mesMaiorValor,\")\")\n",
    "print(\"Mês com maior amplitude térmica:\",ampliMaior+1,\"(\",ampliMaiorValor,\")\")\n",
    "\n",
    "meses = np.linspace(1,12,12) # 1, 2, 3..., 12\n",
    "plt.xlabel(\"Meses\")\n",
    "plt.ylabel(\"Médias\")\n",
    "plt.xticks(range(1,13), calendar.month_abbr[1:13])\n",
    "plt.bar(meses,mins,label=\"Mínimas\")\n",
    "plt.bar(meses,maxs,bottom=mins,label=\"Máximas\")\n",
    "plt.legend()\n",
    "plt.show()"
   ]
  },
  {
   "cell_type": "code",
   "execution_count": null,
   "metadata": {
    "collapsed": true,
    "deletable": true,
    "editable": true
   },
   "outputs": [],
   "source": []
  }
 ],
 "metadata": {
  "anaconda-cloud": {},
  "kernelspec": {
   "display_name": "Python 3",
   "language": "python",
   "name": "python3"
  },
  "language_info": {
   "codemirror_mode": {
    "name": "ipython",
    "version": 3
   },
   "file_extension": ".py",
   "mimetype": "text/x-python",
   "name": "python",
   "nbconvert_exporter": "python",
   "pygments_lexer": "ipython3",
   "version": "3.6.0"
  }
 },
 "nbformat": 4,
 "nbformat_minor": 1
}
