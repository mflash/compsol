{
 "cells": [
  {
   "cell_type": "markdown",
   "metadata": {
    "deletable": true,
    "editable": true
   },
   "source": [
    "![prob2](header.jpg)"
   ]
  },
  {
   "cell_type": "markdown",
   "metadata": {
    "deletable": true,
    "editable": true
   },
   "source": [
    "### Problema 2\n",
    "\n",
    "O serviço meteorológico fornece informações sobre a temperatura de cada dia nos últimos 50 anos na sua praia preferida: data, temperatura mínima, temperatura média, temperatura máxima. Você gostaria de obter as seguintes informações importantes para planejar suas férias:\n",
    "\n",
    "  * Qual o mês com a maior média de temperaturas máximas;\n",
    "  * Qual o mês com a maior média de temperaturas mínimas;\n",
    "  * Qual o mês com a maior amplitude térmica;\n",
    "  \n",
    "Os registros estão em um arquivo com o seguinte formato:\n",
    "\n",
    "```ini\n",
    "#data precip maxima minima horas_insol temp_media um_relativa vel_vento\n",
    "01/01/1961 -1 33.8 22.2 11.7 27.08 67.0 2.333333\n",
    "02/01/1961 0.0 34.7 22.5 9.5 28.06 62.5 1.333333\n",
    "03/01/1961 0.2 27.7 23.1 2.3 24.32 74.25 2.0\n",
    "04/01/1961 2.4 29.4 20.6 8.7 23.56 57.5 2.333333\n",
    "```\n",
    "\n",
    "Cada linha contém as seguintes informações, em ordem: data, precipitação (em mm), temperatura máxima, temperatura mínima, horas de insolação, temperatura média, umidade relativa do ar (%) e velocidade do vento. Caso alguma informação não tenha sido coletada no dia, é utilizado o valor -1.\n"
   ]
  },
  {
   "cell_type": "code",
   "execution_count": null,
   "metadata": {
    "collapsed": true,
    "deletable": true,
    "editable": true
   },
   "outputs": [],
   "source": []
  }
 ],
 "metadata": {
  "anaconda-cloud": {},
  "kernelspec": {
   "display_name": "Python 3",
   "language": "python",
   "name": "python3"
  },
  "language_info": {
   "codemirror_mode": {
    "name": "ipython",
    "version": 3
   },
   "file_extension": ".py",
   "mimetype": "text/x-python",
   "name": "python",
   "nbconvert_exporter": "python",
   "pygments_lexer": "ipython3",
   "version": "3.6.0"
  }
 },
 "nbformat": 4,
 "nbformat_minor": 1
}
