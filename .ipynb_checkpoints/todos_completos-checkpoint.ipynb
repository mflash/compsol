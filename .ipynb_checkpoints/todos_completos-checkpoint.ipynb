{
 "cells": [
  {
   "cell_type": "markdown",
   "metadata": {
    "deletable": true,
    "editable": true
   },
   "source": [
    "![compsol](header.jpg)"
   ]
  },
  {
   "cell_type": "markdown",
   "metadata": {
    "deletable": true,
    "editable": true
   },
   "source": [
    "### Problema 1\n",
    "\n",
    "Você decidiu abrir uma caderneta de poupança para o seu sobrinho que acaba de nascer, assim quando ele tiver 18 anos encontrará um bom valor para usar como quiser. Você vai fazer depósitos mensais até lá, e deseja descobrir a resposta estas perguntas:"
   ]
  },
  {
   "cell_type": "markdown",
   "metadata": {
    "deletable": true,
    "editable": true
   },
   "source": [
    "  * Quanto dinheiro estará depositado depois de 48 meses?\n",
    "  * E depois de 216 meses (ou seja, 18 anos)?\n",
    "  * Quando ele terá um milhão de reais?\n",
    "  * O que é mais importante, o valor de abertura da conta ou o depósito"
   ]
  },
  {
   "cell_type": "markdown",
   "metadata": {
    "deletable": true,
    "editable": true
   },
   "source": [
    "  Encontre as varíaveis importantes e modele a situação."
   ]
  },
  {
   "cell_type": "markdown",
   "metadata": {
    "deletable": true,
    "editable": true
   },
   "source": [
    "  Depositando o valor $a$ no primeiro mês e o valor $b$ nos meses\n",
    "  seguintes.\n",
    "\n",
    "  Supondo que a taxa de juros é $j$ (o valor atual de $j$ é de aproximadamente\n",
    "  0.7\\%).\n",
    "\n",
    "\\begin{eqnarray*}\n",
    "\\$_1     & = & a \\\\\n",
    "\\$_{n+1} & = & (1+j)*\\$_n+b\n",
    "\\end{eqnarray*}"
   ]
  },
  {
   "cell_type": "code",
   "execution_count": 1,
   "metadata": {
    "collapsed": false,
    "deletable": true,
    "editable": true
   },
   "outputs": [
    {
     "name": "stdout",
     "output_type": "stream",
     "text": [
      "Depois de 48 meses: 12760.616282344996\n",
      "Depois de 18 anos: 104853.79679131201\n",
      "Ele terá R$ 1 milhão depois de 509 meses - 42 anos\n"
     ]
    }
   ],
   "source": [
    "inicial = 1000\n",
    "mensal = 200\n",
    "juros = 0.007 # 0.7%\n",
    "\n",
    "# Quanto dinheiro estará depositado depois de 48 meses?\n",
    "final = inicial\n",
    "for meses in range(48):\n",
    "    final = final + juros*final + mensal\n",
    "print(\"Depois de 48 meses:\",final)\n",
    "\n",
    "# Quanto dinheiro estará depositado depois de 18 anos (216 meses)?\n",
    "final = inicial\n",
    "for meses in range(216):\n",
    "    final = final + juros*final + mensal\n",
    "print(\"Depois de 18 anos:\",final)\n",
    "\n",
    "# Quando ele terá um milhão de reais?\n",
    "final = inicial\n",
    "meses = 0\n",
    "while final < 1000000:\n",
    "    final = final + juros*final + mensal\n",
    "    meses += 1\n",
    "print(\"Ele terá R$ 1 milhão depois de\",meses,\"meses -\",meses//12,\"anos\")"
   ]
  },
  {
   "cell_type": "code",
   "execution_count": 2,
   "metadata": {
    "collapsed": false,
    "deletable": true,
    "editable": true
   },
   "outputs": [
    {
     "name": "stdout",
     "output_type": "stream",
     "text": [
      "Populating the interactive namespace from numpy and matplotlib\n"
     ]
    }
   ],
   "source": [
    "%pylab inline\n",
    "pylab.rcParams['figure.figsize'] = (12, 8)"
   ]
  },
  {
   "cell_type": "markdown",
   "metadata": {
    "deletable": true,
    "editable": true
   },
   "source": [
    "### Problema 2\n",
    "\n",
    "O serviço meteorológico fornece informações sobre a temperatura de cada dia nos últimos 50 anos na sua praia preferida: data, temperatura mínima, temperatura média, temperatura máxima. Você gostaria de obter as seguintes informações importantes para planejar suas férias:\n",
    "\n",
    "  * Qual o mês com a maior média de temperaturas máximas;\n",
    "  * Qual o mês com a maior média de temperaturas mínimas;\n",
    "  * Qual o mês com a maior amplitude térmica;\n",
    "  \n",
    "Os registros estão em um arquivo com o seguinte formato:\n",
    "\n",
    "```ini\n",
    "#data precip maxima minima horas_insol temp_media um_relativa vel_vento\n",
    "01/01/1961 -1 33.8 22.2 11.7 27.08 67.0 2.333333\n",
    "02/01/1961 0.0 34.7 22.5 9.5 28.06 62.5 1.333333\n",
    "03/01/1961 0.2 27.7 23.1 2.3 24.32 74.25 2.0\n",
    "04/01/1961 2.4 29.4 20.6 8.7 23.56 57.5 2.333333\n",
    "```\n",
    "\n",
    "Cada linha contém as seguintes informações, em ordem: data, precipitação (em mm), temperatura máxima, temperatura mínima, horas de insolação, temperatura média, umidade relativa do ar (%) e velocidade do vento. Caso alguma informação não tenha sido coletada no dia, é utilizado o valor -1.\n"
   ]
  },
  {
   "cell_type": "code",
   "execution_count": 3,
   "metadata": {
    "collapsed": false,
    "deletable": true,
    "editable": true
   },
   "outputs": [
    {
     "name": "stdout",
     "output_type": "stream",
     "text": [
      "Mínimas: [ 20.52149533  20.69786354  19.39398873  16.34229275  13.29411392\n",
      "  10.8962585   10.52715969  11.41252433  13.11643287  15.36202771\n",
      "  17.09785853  19.12231301]\n",
      "Máximas: [ 30.54485981  30.26045549  28.71571697  25.68498382  22.33020899\n",
      "  19.73399048  19.63718954  21.07948052  22.21413262  24.81944444\n",
      "  27.14935065  29.48541798]\n",
      "Amplitudes: [ 10.02336449   9.56259194   9.32172824   9.34269107   9.03609507\n",
      "   8.83773198   9.11002986   9.66695618   9.09769975   9.45741674\n",
      "  10.05149212  10.36310497]\n",
      "Mês com menor média de temperatura mínima: 7 ( 10.5271596859 )\n",
      "Mês com maior média de temperatura máxima: 1 ( 20.6978635424 )\n",
      "Mês com maior amplitude térmica: 12 ( 10.3631049654 )\n"
     ]
    },
    {
     "data": {
      "image/png": "[encoded data removed]",
      "text/plain": [
       "<matplotlib.figure.Figure at 0x10df53f28>"
      ]
     },
     "metadata": {},
     "output_type": "display_data"
    }
   ],
   "source": [
    "import calendar\n",
    "import numpy as np\n",
    "import matplotlib.pyplot as plt\n",
    "\n",
    "arq = open(\"dados/poa_temps.txt\")\n",
    "arq.readline() # Pula o cabeçalho\n",
    "\n",
    "minimas = np.zeros(12)\n",
    "maximas = np.zeros(12)\n",
    "totminimas = np.zeros(12)\n",
    "totmaximas = np.zeros(12)\n",
    "\n",
    "for linha in arq.readlines():\n",
    "    dados = linha.split()\n",
    "    data = dados[0]\n",
    "    maxima = float(dados[2])\n",
    "    minima = float(dados[3])\n",
    "\n",
    "    diamesano = data.split(\"/\")\n",
    "    mes = int(diamesano[1])-1\n",
    "\n",
    "    # Há máxima?\n",
    "    if maxima != -1:\n",
    "        maximas[mes] += maxima\n",
    "        totmaximas[mes] += 1\n",
    "\n",
    "    # Há mínima?\n",
    "    if minima != -1:\n",
    "        minimas[mes] += minima\n",
    "        totminimas[mes] += 1\n",
    "\n",
    "arq.close()\n",
    "\n",
    "mins = minimas/totminimas\n",
    "print(\"Mínimas:\",mins)\n",
    "\n",
    "maxs = maximas/totmaximas\n",
    "print(\"Máximas:\",maxs)\n",
    "\n",
    "ampli = maxs - mins\n",
    "print(\"Amplitudes:\",ampli)\n",
    "\n",
    "mesMenor = mins.argmin()\n",
    "mesMenorValor = mins.min()\n",
    "mesMaior = maxs.argmax()\n",
    "mesMaiorValor = mins.max()\n",
    "\n",
    "ampliMaior = ampli.argmax()\n",
    "ampliMaiorValor = ampli.max()\n",
    "\n",
    "print(\"Mês com menor média de temperatura mínima:\",mesMenor+1,\"(\",mesMenorValor,\")\")\n",
    "print(\"Mês com maior média de temperatura máxima:\",mesMaior+1,\"(\",mesMaiorValor,\")\")\n",
    "print(\"Mês com maior amplitude térmica:\",ampliMaior+1,\"(\",ampliMaiorValor,\")\")\n",
    "\n",
    "meses = np.linspace(1,12,12) # 1, 2, 3..., 12\n",
    "plt.xlabel(\"Meses\")\n",
    "plt.ylabel(\"Médias\")\n",
    "plt.xticks(range(1,13), calendar.month_abbr[1:13])\n",
    "plt.bar(meses,mins,label=\"Mínimas\")\n",
    "plt.bar(meses,maxs,bottom=mins,label=\"Máximas\")\n",
    "plt.legend()\n",
    "plt.show()"
   ]
  },
  {
   "cell_type": "markdown",
   "metadata": {
    "deletable": true,
    "editable": true
   },
   "source": [
    "### Problema 3\n",
    "\n",
    "Infelizmente um vírus acaba de sofrer uma mutação e passou das gaivotas\n",
    "para os humanos, contaminando as pessoas. No início você tem uma pessoa\n",
    "contaminada (o *paciente zero*), que poderá contaminar outras\n",
    "pessoas ao encontrá-las. Determine as informações que você precisa\n",
    "para construir um modelo de propagação da doença e qual seria este\n",
    "modelo. Investigue os limites da validade do seu modelo."
   ]
  },
  {
   "cell_type": "markdown",
   "metadata": {
    "deletable": true,
    "editable": true
   },
   "source": [
    "Informação: taxa de contágio $\\alpha$ entre contaminados e não-contaminados.\n",
    "(Sug. $\\alpha=0.002$)\n",
    "\n",
    "Informação: taxa de mortalidade $\\beta$ de contaminados. (Sug. $\\beta=0.06$)\n",
    "\\begin{eqnarray*}\n",
    "Pop & = & 1000000 \\\\\n",
    "C_1 & = & 1 \\\\\n",
    "S_1 & = & Pop - C_1 \\\\\n",
    "M_\\infty & = & 0 \\\\\n",
    "I_\\infty & = & 0\n",
    "\\end{eqnarray*}\n",
    "\n",
    "Primeiro calculamos quantas novas pessoas terão adoecido no momento $n$:\n",
    "\n",
    "$$ A_n = \\frac{\\alpha S_nC_n}{Pop} $$\n",
    "\n",
    "E atualizamos os números de pessoas sadias e contaminadas\n",
    "\n",
    "\\begin{eqnarray*}\n",
    "S_{n+1}     & = & S_n - A_n \\\\\n",
    "C_{n+1}     & = & C_n + A_n\n",
    "\\end{eqnarray*}\n",
    "\n",
    "Algumas destes novos doentes vão morrer, outros vão ficar imunizados:\n",
    "\n",
    "\\begin{eqnarray*}\n",
    "M_\\infty & = & M_\\infty + \\beta*A_n \\\\\n",
    "I_\\infty & = & I_\\infty + (1-\\beta)*A_n\n",
    "\\end{eqnarray*}"
   ]
  },
  {
   "cell_type": "code",
   "execution_count": 4,
   "metadata": {
    "collapsed": false,
    "deletable": true,
    "editable": true
   },
   "outputs": [
    {
     "name": "stdout",
     "output_type": "stream",
     "text": [
      "0  - Sadias: 99979 Mortas: 0 Imunizadas: 0 Total: 100000\n",
      "100  - Sadias: 99856 Mortas: 6 Imunizadas: 116 Total: 100000\n",
      "200  - Sadias: 99056 Mortas: 46 Imunizadas: 876 Total: 100001\n",
      "300  - Sadias: 94099 Mortas: 293 Imunizadas: 5585 Total: 100001\n",
      "400  - Sadias: 70717 Mortas: 1463 Imunizadas: 27798 Total: 100000\n",
      "500  - Sadias: 26523 Mortas: 3672 Imunizadas: 69782 Total: 100000\n",
      "600  - Sadias: 5058 Mortas: 4746 Imunizadas: 90174 Total: 100000\n",
      "700  - Sadias: 776 Mortas: 4960 Imunizadas: 94241 Total: 100000\n"
     ]
    },
    {
     "data": {
      "image/png": "[encoded data removed]",
      "text/plain": [
       "<matplotlib.figure.Figure at 0x10e068b00>"
      ]
     },
     "metadata": {},
     "output_type": "display_data"
    }
   ],
   "source": [
    "import math\n",
    "repet = 800\n",
    "Pop = 100000\n",
    "iniciais = 21\n",
    "sadias = Pop - iniciais\n",
    "mortas = 0\n",
    "imunizadas = 0\n",
    "contaminadas = iniciais\n",
    "\n",
    "contagio = 0.02\n",
    "mortalidade = 0.05\n",
    "\n",
    "listaSadias = np.zeros(repet)\n",
    "listaMortas = np.zeros(repet)\n",
    "listaImuniz = np.zeros(repet)\n",
    "\n",
    "for it in range(repet):\n",
    "\n",
    "    if it % 100 == 0:\n",
    "        print(it,\" - Sadias:\",int(sadias),\"Mortas:\",int(mortas),\"Imunizadas:\",int(imunizadas),\"Total:\",math.ceil(iniciais+sadias+mortas+imunizadas))\n",
    "    \n",
    "    adoecem = contagio * sadias * contaminadas / Pop\n",
    "    contaminadas = contaminadas + (1 - mortalidade) * adoecem\n",
    "    mortas = mortas + mortalidade * adoecem\n",
    "    imunizadas = imunizadas + (1 - mortalidade) * adoecem\n",
    "    sadias = sadias - adoecem\n",
    "    \n",
    "    listaSadias[it] = sadias\n",
    "    listaMortas[it] = mortas\n",
    "    listaImuniz[it] = imunizadas\n",
    "    \n",
    "its = np.linspace(1,repet,repet) # 1, 2, 3..., repet\n",
    "plt.xlabel(\"Iteração\")\n",
    "plt.plot(its,listaSadias,label=\"Sadias\")\n",
    "plt.plot(its,listaMortas,label=\"Mortas\")\n",
    "plt.plot(its,listaImuniz,label=\"Imunizadas\")\n",
    "plt.legend()\n",
    "plt.show()"
   ]
  },
  {
   "cell_type": "markdown",
   "metadata": {
    "deletable": true,
    "editable": true
   },
   "source": [
    "### Problema 4\n",
    "\n",
    "Para terminar sua dissertação sobre linguística, seu primo precisa\n",
    "analisar as obras completas de Shakespeare e determinar quais são\n",
    "as 20 palavras que aparecem mais vezes. Proponha um processo que possa\n",
    "começar com os textos completos e chegar à resposta final. Lembre\n",
    "que são quase 900 mil palavras..."
   ]
  },
  {
   "cell_type": "code",
   "execution_count": 5,
   "metadata": {
    "collapsed": false,
    "deletable": true,
    "editable": true
   },
   "outputs": [
    {
     "name": "stdout",
     "output_type": "stream",
     "text": [
      "Palavras distintas: 27942\n",
      "the -> 27361\n",
      "and -> 26028\n",
      "i -> 20681\n",
      "to -> 19150\n",
      "of -> 17463\n",
      "a -> 14593\n",
      "you -> 13615\n",
      "my -> 12481\n",
      "in -> 10956\n",
      "that -> 10890\n",
      "is -> 9134\n",
      "not -> 8497\n",
      "with -> 7771\n",
      "me -> 7769\n",
      "it -> 7678\n",
      "for -> 7558\n",
      "his -> 6857\n",
      "be -> 6857\n",
      "your -> 6655\n",
      "this -> 6602\n"
     ]
    },
    {
     "data": {
      "image/png": "[encoded data removed]",
      "text/plain": [
       "<matplotlib.figure.Figure at 0x10e0198d0>"
      ]
     },
     "metadata": {},
     "output_type": "display_data"
    }
   ],
   "source": [
    "arq = open(\"dados/shakespeare2.txt\")\n",
    "dic = {}\n",
    "\n",
    "for line in arq.readlines():\n",
    "    line = line.strip()\n",
    "    if line:\n",
    "        for word in line.split(' '):\n",
    "            if len(word) == 0:\n",
    "                continue\n",
    "            if word in dic:\n",
    "                dic[word] = dic[word] + 1\n",
    "            else:\n",
    "                dic[word] = 1\n",
    "\n",
    "arq.close()\n",
    "\n",
    "s = [(k, dic[k]) for k in sorted(dic, key=dic.get, reverse=True)]\n",
    "\n",
    "print(\"Palavras distintas:\",len(s))\n",
    "for k,v in s[:20]:\n",
    "    print(k,'->',v)\n",
    "    \n",
    "plt.xlabel(\"Palavras\")\n",
    "plt.ylabel(\"Frequência\")\n",
    "dados1,dados2 = zip(*s[:20])\n",
    "nums = np.linspace(1,20,20) # 1, 2, 3..., 20\n",
    "plt.bar(nums,dados2)\n",
    "plt.xticks(nums,dados1)\n",
    "plt.show()"
   ]
  },
  {
   "cell_type": "code",
   "execution_count": null,
   "metadata": {
    "collapsed": true,
    "deletable": true,
    "editable": true
   },
   "outputs": [],
   "source": []
  }
 ],
 "metadata": {
  "anaconda-cloud": {},
  "kernelspec": {
   "display_name": "Python 3",
   "language": "python",
   "name": "python3"
  },
  "language_info": {
   "codemirror_mode": {
    "name": "ipython",
    "version": 3
   },
   "file_extension": ".py",
   "mimetype": "text/x-python",
   "name": "python",
   "nbconvert_exporter": "python",
   "pygments_lexer": "ipython3",
   "version": "3.6.0"
  }
 },
 "nbformat": 4,
 "nbformat_minor": 1
}
