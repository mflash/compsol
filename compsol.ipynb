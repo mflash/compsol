{
 "cells": [
  {
   "cell_type": "markdown",
   "metadata": {},
   "source": [
    "# Modelagem e Resolução de Problemas\n",
    "## Minicurso - Capacitação de Professores PUCRS 2017/1"
   ]
  },
  {
   "cell_type": "markdown",
   "metadata": {},
   "source": [
    "### Problema 1\n",
    "\n",
    "Você decidiu abrir uma caderneta de poupança para o seu sobrinho que acaba de nascer, assim quando ele tiver 18 anos encontrará um bom valor para usar como quiser. Você vai fazer depósitos mensais até lá, e deseja descobrir a resposta estas perguntas:"
   ]
  },
  {
   "cell_type": "markdown",
   "metadata": {},
   "source": [
    "  * Quanto dinheiro estará depositado depois de 48 meses?\n",
    "  * E depois de 216 meses (ou seja, 18 anos)?\n",
    "  * Quando ele terá um milhão de reais?\n",
    "  * O que é mais importante, o valor de abertura da conta ou o depósito"
   ]
  },
  {
   "cell_type": "markdown",
   "metadata": {},
   "source": [
    "  Encontre as varíaveis importantes e modele a situação."
   ]
  },
  {
   "cell_type": "markdown",
   "metadata": {},
   "source": [
    "  Depositando o valor $a$ no primeiro mês e o valor $b$ nos meses\n",
    "  seguintes.\n",
    "\n",
    "  Supondo que a taxa de juros é $j$ (o valor atual de $j$ é de aproximadamente\n",
    "  0.7\\%).\n",
    "\n",
    "  \\begin{eqnarray*}\n",
    "  \\$_1     & = & a \\\\\n",
    "  \\$_{n+1} & = & (1+j)*\\$_n+b\n",
    "  \\end{eqnarray*}"
   ]
  },
  {
   "cell_type": "code",
   "execution_count": 23,
   "metadata": {
    "collapsed": false
   },
   "outputs": [
    {
     "name": "stdout",
     "output_type": "stream",
     "text": [
      "Depois de 48 meses: 7079.159141115529\n",
      "Depois de 48 meses: 55651.820254687664\n",
      "Ele terá R$ 1 milhão depois de 602 meses - 50 anos\n"
     ]
    }
   ],
   "source": [
    "inicial = 1000\n",
    "mensal = 100\n",
    "juros = 0.007 # 0.7%\n",
    "\n",
    "# Quanto dinheiro estará depositado depois de 48 meses?\n",
    "final = inicial\n",
    "for meses in range(48):\n",
    "    final = final + juros*final + mensal\n",
    "print(\"Depois de 48 meses:\",final)\n",
    "\n",
    "# Quanto dinheiro estará depositado depois de 18 anos (218 meses)?\n",
    "final = inicial\n",
    "for meses in range(218):\n",
    "    final = final + juros*final + mensal\n",
    "print(\"Depois de 48 meses:\",final)\n",
    "\n",
    "# Quando ele terá um milhão de reais?\n",
    "final = inicial\n",
    "meses = 0\n",
    "while final < 1000000:\n",
    "    final = final + juros*final + mensal\n",
    "    meses += 1\n",
    "print(\"Ele terá R$ 1 milhão depois de\",meses,\"meses -\",meses//12,\"anos\")"
   ]
  },
  {
   "cell_type": "markdown",
   "metadata": {},
   "source": [
    "### Problema 2\n",
    "\n",
    "O serviço meteorológico fornece informações sobre a temperatura de cada dia nos últimos dez anos na sua praia preferida: data, temperatura mínima, temperatura média, temperatura máxima. Você tem dez anos destes registros e gostaria de tirar daí as seguintes informações importantes para planejar suas férias:\n",
    "\n",
    "  * Qual o mês com as maiores temperaturas máximas;\n",
    "  * Qual o mês com as maiores temperaturas mínimas;\n",
    "  * Qual o mês com a maior amplitude térmica;"
   ]
  },
  {
   "cell_type": "markdown",
   "metadata": {},
   "source": [
    "### Problema 3\n",
    "\n",
    "Infelizmente um vírus acaba de sofrer uma mutação e passou das gaivotas\n",
    "para os humanos, contaminando as pessoas. No início você tem uma pessoa\n",
    "contaminada (o *paciente zero*), que poderá contaminar outras\n",
    "pessoas ao encontrá-las. Determine as informações que você precisa\n",
    "para construir um modelo de propagação da doença e qual seria este\n",
    "modelo. Investigue os limites da validade do seu modelo."
   ]
  },
  {
   "cell_type": "markdown",
   "metadata": {},
   "source": [
    "Informação: taxa de contágio $\\alpha$ entre contaminados e não-contaminados.\n",
    "(Sug. $\\alpha=0.00002$)\n",
    "\n",
    "Informação: taxa de mortalidade $\\beta$ de contaminados. (Sug. $\\beta=0.06$)\n",
    "\\begin{eqnarray*}\n",
    "C_1     & = & 1 \\\\\n",
    "C_{n+1} & = & C_n-\\beta C_n+\\alpha S_nC_n\\\\\n",
    "\\\\\n",
    "S_1     & = & 100000 \\\\\n",
    "S_{n+1} & = & S_n+(1-\\beta)*C_n-\\alpha S_nC_n\n",
    "\\end{eqnarray*}\n",
    "\n",
    "Este modelo não tem pessoas que ficaram imunizadas! Este tem:\n",
    "\n",
    "\\begin{eqnarray*}\n",
    "C_1     & = & 1 \\\\\n",
    "C_{n+1} & = & C_n-\\beta C_n+\\alpha S_nC_n \\\\\n",
    "\\\\\n",
    "S_1     & = & 100000 \\\\\n",
    "S_{n+1} & = & S_n+(1-\\beta)*C_n-\\alpha S_nC_n \\\\\n",
    "\\\\\n",
    "I_1     & = & 0 \\\\\n",
    "I_{n+1} & = & I_n+(1-\\beta)*C_n\n",
    "\\end{eqnarray*}\n",
    "\n",
    "O modelo acima está incorreto por que a população imunizada cresce\n",
    "cada vez mais e ultrapassa a população inicial. Modelo corrigido:\n",
    "\n",
    "\\begin{eqnarray*}\n",
    "I_1     & = & 0 \\\\\n",
    "I_{n+1} & = & I_n+(1-\\beta)*(C_{n+1}-C_n)\n",
    "\\end{eqnarray*}"
   ]
  },
  {
   "cell_type": "code",
   "execution_count": 10,
   "metadata": {
    "collapsed": false
   },
   "outputs": [
    {
     "name": "stdout",
     "output_type": "stream",
     "text": [
      "Sadias: 100000 Contaminadas: 1 Imunizadas: 0 Total: 100001\n",
      "Sadias: 99998 Contaminadas: 2 Imunizadas: 0 Total: 100000\n",
      "Sadias: 99995 Contaminadas: 5 Imunizadas: 2 Total: 100002\n",
      "Sadias: 99989 Contaminadas: 14 Imunizadas: 10 Total: 100013\n",
      "Sadias: 99974 Contaminadas: 41 Imunizadas: 35 Total: 100050\n",
      "Sadias: 99930 Contaminadas: 120 Imunizadas: 109 Total: 100159\n",
      "Sadias: 99802 Contaminadas: 352 Imunizadas: 327 Total: 100481\n",
      "Sadias: 99430 Contaminadas: 1033 Imunizadas: 967 Total: 101430\n",
      "Sadias: 98346 Contaminadas: 3025 Imunizadas: 2839 Total: 104210\n",
      "Sadias: 95239 Contaminadas: 8793 Imunizadas: 8260 Total: 112292\n",
      "Sadias: 86755 Contaminadas: 25014 Imunizadas: 23507 Total: 135276\n",
      "Sadias: 66866 Contaminadas: 66914 Imunizadas: 62893 Total: 196673\n",
      "Sadias: 40279 Contaminadas: 152384 Imunizadas: 143234 Total: 335897\n",
      "Sadias: 60762 Contaminadas: 265998 Imunizadas: 250031 Total: 576791\n",
      "Sadias: -12451 Contaminadas: 573289 Imunizadas: 538884 Total: 1099722\n",
      "Sadias: 669201 Contaminadas: 396131 Imunizadas: 372355 Total: 1437687\n",
      "Sadias: -4260261 Contaminadas: 5674188 Imunizadas: 5333728 Total: 6747655\n",
      "Sadias: 484543912 Contaminadas: -478136700 Imunizadas: -449448506 Total: -443041294\n",
      "Sadias: 4633599637189 Contaminadas: -4634013990273 Imunizadas: -4355973150864 Total: -4356387503948\n",
      "Sadias: 429443311158780952576 Contaminadas: -429443315237127585792 Imunizadas: -403676716322899886080 Total: -403676720401246519296\n"
     ]
    }
   ],
   "source": [
    "contaminadas = 1\n",
    "imunizadas = 0\n",
    "sadias = 100000\n",
    "\n",
    "contagio = 0.00002\n",
    "mortalidade = 0.06\n",
    "\n",
    "for it in range(20):\n",
    "    \n",
    "    print(\"Sadias:\",sadias,\"Contaminadas:\",contaminadas,\"Imunizadas:\",imunizadas,\"Total:\",(sadias+contaminadas+imunizadas))\n",
    "    \n",
    "    contam_ant = contaminadas\n",
    "    sadias_ant = sadias\n",
    "    imuniz_ant = imunizadas\n",
    "    \n",
    "    contaminadas = int(contam_ant - mortalidade*contam_ant + contagio*sadias_ant*contam_ant)\n",
    "    sadias = int(sadias_ant + (1-mortalidade)*contam_ant - contagio*sadias_ant*contam_ant)\n",
    "    imunizadas = int(imuniz_ant + (1-mortalidade) * (contaminadas - contam_ant))\n",
    "    "
   ]
  },
  {
   "cell_type": "markdown",
   "metadata": {},
   "source": [
    "### Problema 4\n",
    "\n",
    "Para terminar sua dissertação sobre linguística, seu primo precisa\n",
    "analisar as obras completas de Shakespeare e determinar quais são\n",
    "as 20 palavras que aparecem mais vezes. Proponha um processo que possa\n",
    "começar com os textos completos e chegar à resposta final. Lembre\n",
    "que são quase 900 mil palavras..."
   ]
  },
  {
   "cell_type": "code",
   "execution_count": 4,
   "metadata": {
    "collapsed": false
   },
   "outputs": [
    {
     "name": "stdout",
     "output_type": "stream",
     "text": [
      "Total lines: 124787\n"
     ]
    }
   ],
   "source": [
    "arq = open(\"shakespeare.txt\")\n",
    "lines = arq.readlines()\n",
    "print(\"Total lines:\", len(lines))"
   ]
  },
  {
   "cell_type": "code",
   "execution_count": null,
   "metadata": {
    "collapsed": true
   },
   "outputs": [],
   "source": []
  }
 ],
 "metadata": {
  "anaconda-cloud": {},
  "kernelspec": {
   "display_name": "Python [default]",
   "language": "python",
   "name": "python3"
  },
  "language_info": {
   "codemirror_mode": {
    "name": "ipython",
    "version": 3
   },
   "file_extension": ".py",
   "mimetype": "text/x-python",
   "name": "python",
   "nbconvert_exporter": "python",
   "pygments_lexer": "ipython3",
   "version": "3.5.2"
  }
 },
 "nbformat": 4,
 "nbformat_minor": 1
}
